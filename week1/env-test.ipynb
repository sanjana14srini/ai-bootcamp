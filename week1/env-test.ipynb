{
 "cells": [
  {
   "cell_type": "code",
   "execution_count": 1,
   "id": "781472bd-ae44-4052-9121-dbc578392ad3",
   "metadata": {},
   "outputs": [],
   "source": [
    "from openai import OpenAI"
   ]
  },
  {
   "cell_type": "code",
   "execution_count": 2,
   "id": "9fdb4c25-4353-4b79-9f5f-58147c81df0c",
   "metadata": {},
   "outputs": [],
   "source": [
    "openai_client = OpenAI()"
   ]
  },
  {
   "cell_type": "code",
   "execution_count": 3,
   "id": "9dfac3ae-e840-4e12-8de1-b8493c4bfb35",
   "metadata": {},
   "outputs": [
    {
     "name": "stdout",
     "output_type": "stream",
     "text": [
      "**The Moonlit Journey of Luna the Unicorn**\n",
      "\n",
      "Once upon a time, in a magical forest where the trees whispered secrets and flowers danced in the breeze, lived a unicorn named Luna. Her coat shimmered like morning dew, and her mane sparkled with every color of the rainbow. But what made Luna truly special was her sparkling silver horn, said to hold the dreams of all who believed in magic.\n",
      "\n",
      "One starry night, as the moon hung low in the sky, Luna felt a gentle tug in her heart. She gazed at the glowing moon, which seemed to call her name. “Tonight is a special night,” she thought. “I must follow the moonbeams!”\n",
      "\n",
      "With a graceful leap, Luna dashed through the forest, her hooves barely touching the ground. The trees illuminated her path, their leaves shimmering like tiny stars. She knew she was destined for an adventure.\n",
      "\n",
      "As she galloped, she met her friend, Oliver the wise old owl. \"Where are you off to, Luna?\" he hooted, his big round eyes twinkling.\n",
      "\n",
      "\"I must follow the moonbeams,\" she replied. \"I feel they hold a secret waiting for me!\"\n",
      "\n",
      "\"Then take care, dear friend,\" Oliver advised. \"The moonlight can reveal things hidden in shadows.\"\n",
      "\n",
      "With a nod, Luna continued her journey. She leaped over sparkling streams and danced around ancient rocks, the moonlight guiding her way. Finally, she reached a glen bathed in silver light.\n",
      "\n",
      "In the center of the glen stood a shimmering pond. The water reflected the moon like a perfect mirror. Luna approached and peered into the pond. Instantly, a soft voice filled the air. \"Dear Luna, you have come seeking dreams. What do you wish to see?\"\n",
      "\n",
      "Luna thought for a moment. “I wish to see the beauty of kindness in the hearts of all creatures.” \n",
      "\n",
      "The pond began to ripple, and images floated to the surface—animals sharing warmth, flowers blooming in unison, and children laughing. Each vision sparkled with love and joy, and Luna felt her heart swell with happiness.\n",
      "\n",
      "“When we practice kindness, we create magic,” the voice whispered. “Carry this beauty in your heart and share it with the world.”\n",
      "\n",
      "With the moonlight as her witness, Luna closed her eyes, made a wish to spread kindness, and the visions faded into tiny sparkles that swirled around her.\n",
      "\n",
      "As dawn approached, Luna turned to head home, feeling lighter and brighter than ever. The forest welcomed her back with open arms, the sun beginning to peek through the leaves.\n",
      "\n",
      "From that day forward, Luna made it her mission to spread kindness, making the forest even more magical. And every night, under the moonlight, she would remind herself of her special journey, always believing in the power of love and dreams.\n",
      "\n",
      "And with that, Luna drifted off to sleep, dreaming of all the adventures yet to come.\n",
      "\n",
      "**The End.** 🌙✨\n"
     ]
    }
   ],
   "source": [
    "\n",
    "response = openai_client.responses.create(\n",
    "    model=\"gpt-4o-mini\",\n",
    "    input=\"Write a short bedtime story about a unicorn.\"\n",
    ")\n",
    "\n",
    "print(response.output_text)"
   ]
  }
 ],
 "metadata": {
  "kernelspec": {
   "display_name": "Python 3 (ipykernel)",
   "language": "python",
   "name": "python3"
  },
  "language_info": {
   "codemirror_mode": {
    "name": "ipython",
    "version": 3
   },
   "file_extension": ".py",
   "mimetype": "text/x-python",
   "name": "python",
   "nbconvert_exporter": "python",
   "pygments_lexer": "ipython3",
   "version": "3.12.1"
  }
 },
 "nbformat": 4,
 "nbformat_minor": 5
}
