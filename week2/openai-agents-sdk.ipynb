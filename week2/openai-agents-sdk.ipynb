{
 "cells": [
  {
   "cell_type": "code",
   "execution_count": 1,
   "id": "7a86fcdf",
   "metadata": {},
   "outputs": [],
   "source": [
    "import requests\n",
    "from typing import Optional\n",
    "\n",
    "reader_url_prefix = \"https://r.jina.ai/\"\n",
    "\n",
    "def get_page_content(url: str) -> Optional[str]:\n",
    "    \"\"\"\n",
    "    Fetch the Markdown content of a web page using the Jina Reader service.\n",
    "\n",
    "    This function prepends the Jina Reader proxy URL to the provided `url`,\n",
    "    sends a GET request with a timeout, and decodes the response as UTF-8 text.\n",
    "\n",
    "    Args:\n",
    "        url (str): The URL of the page to fetch.\n",
    "\n",
    "    Returns:\n",
    "        Optional[str]: The Markdown-formatted content of the page if the request\n",
    "        succeeds; otherwise, None.\n",
    "\n",
    "    Raises:\n",
    "        None: All network or decoding errors are caught and suppressed.\n",
    "               Logs or error messages could be added as needed.\n",
    "    \"\"\"\n",
    "    reader_url = reader_url_prefix + url\n",
    "\n",
    "    try:\n",
    "        response = requests.get(reader_url, timeout=10)\n",
    "        response.raise_for_status()  # raises for 4xx/5xx HTTP errors\n",
    "        return response.content.decode(\"utf-8\")\n",
    "    except (requests.exceptions.RequestException, UnicodeDecodeError) as e:\n",
    "        # Optional: log or print the error for debugging\n",
    "        print(f\"Error fetching content from {url}: {e}\")\n",
    "        return None"
   ]
  },
  {
   "cell_type": "code",
   "execution_count": 2,
   "id": "92164204",
   "metadata": {},
   "outputs": [],
   "source": [
    "from agents import Agent, function_tool\n"
   ]
  },
  {
   "cell_type": "code",
   "execution_count": 3,
   "id": "0febd32b",
   "metadata": {},
   "outputs": [],
   "source": [
    "assistant_instructions = \"\"\"\n",
    "You're a helpful assistant that helps answer user questions.\n",
    "\"\"\"\n",
    "\n",
    "assistant = Agent(\n",
    "    name='assistant',\n",
    "    tools=[function_tool(get_page_content)],\n",
    "    instructions=assistant_instructions,\n",
    "    model='gpt-4o-mini'\n",
    ")"
   ]
  },
  {
   "cell_type": "code",
   "execution_count": 4,
   "id": "a28e8069",
   "metadata": {},
   "outputs": [],
   "source": [
    "from agents import Runner\n",
    "\n",
    "runner = Runner()"
   ]
  },
  {
   "cell_type": "code",
   "execution_count": 5,
   "id": "0274779c",
   "metadata": {},
   "outputs": [],
   "source": [
    "user_prompt = \"Summarize the content of https://openai.github.io/openai-agents-python/\"\n",
    "result = await runner.run(assistant, input=user_prompt)"
   ]
  },
  {
   "cell_type": "code",
   "execution_count": 6,
   "id": "e3a00094",
   "metadata": {},
   "outputs": [
    {
     "data": {
      "text/plain": [
       "'The **OpenAI Agents SDK** is a development toolkit designed for building intelligent applications that utilize large language models (LLMs). It\\'s a refined version of earlier agent experimentation, aimed at providing a straightforward framework with minimal complexity.\\n\\n### Key Features:\\n- **Agents**: LLMs enhanced with specific instructions and tools.\\n- **Handoffs**: Mechanism for agents to delegate tasks to one another.\\n- **Guardrails**: Validation features for both agent inputs and outputs.\\n- **Sessions**: Automatic management of conversation history for continuity in interactions.\\n\\n### Advantages:\\n- Simplified learning curve with essential functionalities without overwhelming complexity.\\n- Compatible with Python, allowing natural orchestration of agents.\\n- Built-in capabilities for tracing, visualization, and monitoring of workflows.\\n\\n### Getting Started:\\n- **Installation** is straightforward: \\n  ```bash\\n  pip install openai-agents\\n  ```\\n- A simple example demonstrates how to create an agent and run it:\\n  ```python\\n  from agents import Agent, Runner\\n  agent = Agent(name=\"Assistant\", instructions=\"You are a helpful assistant\")\\n  result = Runner.run_sync(agent, \"Write a haiku about recursion in programming.\")\\n  print(result.final_output)\\n  ```\\n\\n### Documentation:\\nThe SDK provides rich documentation, including:\\n- Quickstart guides\\n- Examples\\n- API references for agents, tools, and tracing\\n\\nOverall, the SDK aims to facilitate the development of complex AI applications with user-friendly tools and strong foundational capabilities.'"
      ]
     },
     "execution_count": 6,
     "metadata": {},
     "output_type": "execute_result"
    }
   ],
   "source": [
    "result.new_items[-1].raw_item.content[0].text"
   ]
  },
  {
   "cell_type": "code",
   "execution_count": 7,
   "id": "da6b76db",
   "metadata": {},
   "outputs": [],
   "source": [
    "from toyaikit.chat import IPythonChatInterface\n",
    "from toyaikit.chat.runners import OpenAIAgentsSDKRunner\n",
    "\n",
    "chat_interface = IPythonChatInterface()\n",
    "\n",
    "runner = OpenAIAgentsSDKRunner(\n",
    "    chat_interface=chat_interface,\n",
    "    agent=assistant\n",
    ")"
   ]
  },
  {
   "cell_type": "code",
   "execution_count": 8,
   "id": "151de630",
   "metadata": {},
   "outputs": [
    {
     "ename": "ImportError",
     "evalue": "cannot import name 'SQLiteSession' from 'agents' (/workspaces/ai-bootcamp/.venv/lib/python3.12/site-packages/agents/__init__.py)",
     "output_type": "error",
     "traceback": [
      "\u001b[31m---------------------------------------------------------------------------\u001b[39m",
      "\u001b[31mImportError\u001b[39m                               Traceback (most recent call last)",
      "\u001b[36mCell\u001b[39m\u001b[36m \u001b[39m\u001b[32mIn[8]\u001b[39m\u001b[32m, line 1\u001b[39m\n\u001b[32m----> \u001b[39m\u001b[32m1\u001b[39m \u001b[38;5;28;01mawait\u001b[39;00m runner.run();\n",
      "\u001b[36mFile \u001b[39m\u001b[32m/workspaces/ai-bootcamp/.venv/lib/python3.12/site-packages/toyaikit/chat/runners.py:193\u001b[39m, in \u001b[36mOpenAIAgentsSDKRunner.run\u001b[39m\u001b[34m(self)\u001b[39m\n\u001b[32m    192\u001b[39m \u001b[38;5;28;01masync\u001b[39;00m \u001b[38;5;28;01mdef\u001b[39;00m\u001b[38;5;250m \u001b[39m\u001b[34mrun\u001b[39m(\u001b[38;5;28mself\u001b[39m) -> \u001b[38;5;28;01mNone\u001b[39;00m:\n\u001b[32m--> \u001b[39m\u001b[32m193\u001b[39m     \u001b[38;5;28;01mfrom\u001b[39;00m\u001b[38;5;250m \u001b[39m\u001b[34;01magents\u001b[39;00m\u001b[38;5;250m \u001b[39m\u001b[38;5;28;01mimport\u001b[39;00m SQLiteSession\n\u001b[32m    194\u001b[39m     session_id = \u001b[33mf\u001b[39m\u001b[33m\"\u001b[39m\u001b[33mchat_session_\u001b[39m\u001b[38;5;132;01m{\u001b[39;00muuid.uuid4().hex[:\u001b[32m8\u001b[39m]\u001b[38;5;132;01m}\u001b[39;00m\u001b[33m\"\u001b[39m\n\u001b[32m    195\u001b[39m     session = SQLiteSession(session_id)\n",
      "\u001b[31mImportError\u001b[39m: cannot import name 'SQLiteSession' from 'agents' (/workspaces/ai-bootcamp/.venv/lib/python3.12/site-packages/agents/__init__.py)"
     ]
    }
   ],
   "source": [
    "await runner.run();"
   ]
  }
 ],
 "metadata": {
  "kernelspec": {
   "display_name": "ai-bootcamp",
   "language": "python",
   "name": "python3"
  },
  "language_info": {
   "codemirror_mode": {
    "name": "ipython",
    "version": 3
   },
   "file_extension": ".py",
   "mimetype": "text/x-python",
   "name": "python",
   "nbconvert_exporter": "python",
   "pygments_lexer": "ipython3",
   "version": "3.12.1"
  }
 },
 "nbformat": 4,
 "nbformat_minor": 5
}
